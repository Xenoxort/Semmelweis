{
 "cells": [
  {
   "cell_type": "markdown",
   "id": "487b3238-fa1d-4385-90ea-bfb4cbe3e6b6",
   "metadata": {},
   "source": [
    "### Imports"
   ]
  },
  {
   "cell_type": "code",
   "execution_count": 2,
   "id": "a8bb854b-f6a6-4c64-b2f8-cccf109cc69a",
   "metadata": {},
   "outputs": [],
   "source": [
    "import pandas as pd\n",
    "import numpy as np\n",
    "import plotly.express as px\n",
    "import seaborn as sns\n",
    "import matplotlib.pyplot as plt\n",
    "import matplotlib.dates as mdates"
   ]
  },
  {
   "cell_type": "markdown",
   "id": "e196aebd-249a-4898-8c28-1a2c1f7d0a56",
   "metadata": {},
   "source": [
    "### Notebook Presentation"
   ]
  },
  {
   "cell_type": "code",
   "execution_count": 5,
   "id": "da3a753f-ad2d-4814-a0ef-dcb5cb5b5d3c",
   "metadata": {},
   "outputs": [],
   "source": [
    "pd.options.display.float_format = '{:,.2f}'.format\n",
    "\n",
    "# Create locators for ticks on the time axis\n",
    "\n",
    "\n",
    "from pandas.plotting import register_matplotlib_converters\n",
    "register_matplotlib_converters()"
   ]
  },
  {
   "cell_type": "markdown",
   "id": "74fcd576-7e1b-4020-b1e2-ebdc661c22b9",
   "metadata": {},
   "source": [
    "### Read the Data"
   ]
  },
  {
   "cell_type": "code",
   "execution_count": 8,
   "id": "35a0ea53-f0f5-42f2-8362-a60684456a95",
   "metadata": {},
   "outputs": [],
   "source": [
    "df_yearly = pd.read_csv('annual_deaths_by_clinic.csv')\n",
    "# parse_dates avoids DateTime conversion later\n",
    "df_monthly = pd.read_csv('monthly_deaths.csv', \n",
    "                      parse_dates=['date'])"
   ]
  },
  {
   "cell_type": "code",
   "execution_count": null,
   "id": "0a160222-a273-481e-9a65-014f2f19a02c",
   "metadata": {},
   "outputs": [],
   "source": []
  },
  {
   "cell_type": "code",
   "execution_count": null,
   "id": "09721289-8ff2-41de-b355-2c3b08b60876",
   "metadata": {},
   "outputs": [],
   "source": []
  },
  {
   "cell_type": "code",
   "execution_count": null,
   "id": "8c4b6501-a71d-4a63-9f70-bd17d3683327",
   "metadata": {},
   "outputs": [],
   "source": []
  },
  {
   "cell_type": "code",
   "execution_count": null,
   "id": "6d0405f3-b78b-4132-9773-05376e3365b2",
   "metadata": {},
   "outputs": [],
   "source": []
  }
 ],
 "metadata": {
  "kernelspec": {
   "display_name": "Python 3 (ipykernel)",
   "language": "python",
   "name": "python3"
  },
  "language_info": {
   "codemirror_mode": {
    "name": "ipython",
    "version": 3
   },
   "file_extension": ".py",
   "mimetype": "text/x-python",
   "name": "python",
   "nbconvert_exporter": "python",
   "pygments_lexer": "ipython3",
   "version": "3.12.3"
  }
 },
 "nbformat": 4,
 "nbformat_minor": 5
}
